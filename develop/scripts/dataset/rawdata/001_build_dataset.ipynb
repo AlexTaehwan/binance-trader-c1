{
 "cells": [
  {
   "cell_type": "code",
   "execution_count": 1,
   "metadata": {},
   "outputs": [],
   "source": [
    "import pandas as pd\n",
    "# pd.io.parquet.get_engine('auto')\n",
    "\n",
    "from glob import glob"
   ]
  },
  {
   "cell_type": "markdown",
   "metadata": {},
   "source": [
    "### Set tradable coins which has more than `$1500M` marketcap"
   ]
  },
  {
   "cell_type": "code",
   "execution_count": 2,
   "metadata": {},
   "outputs": [],
   "source": [
    "tradable_coins = [\n",
    "    'ADA-BNB',\n",
    "    'ADA-BTC',\n",
    "    'ADA-ETH',\n",
    "    'ADA-USDT',\n",
    "    'BCH-BNB',\n",
    "    'BCH-BTC',\n",
    "    'BCH-USDT',\n",
    "    'BNB-BTC',\n",
    "    'BNB-ETH',\n",
    "    'BNB-USDT',\n",
    "    'BTC-USDT',\n",
    "    'EOS-BNB',\n",
    "    'EOS-BTC',\n",
    "    'EOS-ETH',\n",
    "    'EOS-USDT',\n",
    "    'ETH-BTC',\n",
    "    'ETH-USDT',\n",
    "    'LCT-BNB',\n",
    "    'LCT-USDT',\n",
    "    'LINK-BTC',\n",
    "    'LINK-ETH',\n",
    "    'LINK-USDT',\n",
    "    'LTC-BTC',\n",
    "    'LTC-ETH',\n",
    "    'LTC-USDT',\n",
    "    'TRX-BNB',\n",
    "    'TRX-BTC',\n",
    "    'TRX-ETH',\n",
    "    'TRX-USDT',\n",
    "    'XLM-BNB',\n",
    "    'XLM-BTC',\n",
    "    'XLM-ETH',\n",
    "    'XLM-USDT',\n",
    "    'XMR-BNB',\n",
    "    'XMR-BTC',\n",
    "    'XMR-USDT',\n",
    "    'XRP-BNB',\n",
    "    'XRP-BTC',\n",
    "    'XRP-ETH',\n",
    "    'XRP-USDT'\n",
    "]"
   ]
  },
  {
   "cell_type": "markdown",
   "metadata": {},
   "source": [
    "### Load file & store after cleaning"
   ]
  },
  {
   "cell_type": "code",
   "execution_count": 3,
   "metadata": {},
   "outputs": [],
   "source": [
    "file_list = glob('../../../storage/dataset/rawdata/parquet/*.parquet')\n",
    "file_list = [file for file in file_list if file.split('rawdata/parquet/')[-1].split('.parquet')[0] in tradable_coins]"
   ]
  },
  {
   "cell_type": "code",
   "execution_count": null,
   "metadata": {
    "scrolled": true
   },
   "outputs": [
    {
     "name": "stderr",
     "output_type": "stream",
     "text": [
      " 21%|██        | 8/38 [01:40<05:03, 10.10s/it]"
     ]
    },
    {
     "name": "stdout",
     "output_type": "stream",
     "text": [
      "skipped to save: XMR-BNB.csv\n",
      "skipped to save: BCH-BTC.csv\n"
     ]
    },
    {
     "name": "stderr",
     "output_type": "stream",
     "text": [
      " 45%|████▍     | 17/38 [03:04<02:16,  6.48s/it]"
     ]
    },
    {
     "name": "stdout",
     "output_type": "stream",
     "text": [
      "skipped to save: TRX-BNB.csv\n",
      "skipped to save: TRX-USDT.csv\n"
     ]
    },
    {
     "name": "stderr",
     "output_type": "stream",
     "text": [
      " 61%|██████    | 23/38 [04:25<03:10, 12.69s/it]"
     ]
    }
   ],
   "source": [
    "from tqdm import tqdm\n",
    "\n",
    "query_min_start_dt = '2018-06-01'\n",
    "\n",
    "n_skipped = 0\n",
    "for file in tqdm(file_list):\n",
    "    df = pd.read_parquet(file)[['open', 'high', 'low', 'close', 'volume']]\n",
    "    df = df.resample('1T').ffill()\n",
    "    \n",
    "    df = df[query_min_start_dt:]\n",
    "    assert not df.isnull().any().any()\n",
    "\n",
    "    csv_name = file.split('rawdata/parquet/')[-1].split('.parquet')[0] + '.csv'\n",
    "    \n",
    "    # skip exists data \n",
    "    if df.index[0] > pd.Timestamp(query_min_start_dt, freq='T'):\n",
    "        print(f'skipped to save: {csv_name}')\n",
    "        n_skipped += 1\n",
    "\n",
    "        continue\n",
    "\n",
    "    df.index = df.index.tz_localize('utc')\n",
    "    df.to_csv('../../../storage/dataset/rawdata/csv/' + csv_name)\n",
    "\n",
    "print(f'skipped: {n_skipped}')"
   ]
  },
  {
   "cell_type": "code",
   "execution_count": null,
   "metadata": {},
   "outputs": [],
   "source": []
  }
 ],
 "metadata": {
  "kernelspec": {
   "display_name": "Python 3",
   "language": "python",
   "name": "python3"
  },
  "language_info": {
   "codemirror_mode": {
    "name": "ipython",
    "version": 3
   },
   "file_extension": ".py",
   "mimetype": "text/x-python",
   "name": "python",
   "nbconvert_exporter": "python",
   "pygments_lexer": "ipython3",
   "version": "3.8.3"
  }
 },
 "nbformat": 4,
 "nbformat_minor": 4
}
