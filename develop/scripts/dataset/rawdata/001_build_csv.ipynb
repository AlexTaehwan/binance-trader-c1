{
 "cells": [
  {
   "cell_type": "code",
   "execution_count": 1,
   "metadata": {},
   "outputs": [],
   "source": [
    "import pandas as pd\n",
    "# pd.io.parquet.get_engine('auto')\n",
    "\n",
    "from glob import glob"
   ]
  },
  {
   "cell_type": "markdown",
   "metadata": {},
   "source": [
    "### Set tradable coins which has more than `$1500M` marketcap"
   ]
  },
  {
   "cell_type": "code",
   "execution_count": 2,
   "metadata": {},
   "outputs": [],
   "source": [
    "with open('../rawdata/candidate_coins.txt', 'r') as f:\n",
    "    candidate_coins = f.read().splitlines()"
   ]
  },
  {
   "cell_type": "markdown",
   "metadata": {},
   "source": [
    "### Load file & store after cleaning"
   ]
  },
  {
   "cell_type": "code",
   "execution_count": 3,
   "metadata": {},
   "outputs": [],
   "source": [
    "file_list = glob('../../../storage/dataset/rawdata/parquet/*.parquet')\n",
    "file_list = [file for file in file_list if file.split('rawdata/parquet/')[-1].split('.parquet')[0] in candidate_coins]"
   ]
  },
  {
   "cell_type": "code",
   "execution_count": 4,
   "metadata": {
    "scrolled": true
   },
   "outputs": [
    {
     "name": "stderr",
     "output_type": "stream",
     "text": [
      "0it [00:00, ?it/s]"
     ]
    },
    {
     "name": "stdout",
     "output_type": "stream",
     "text": [
      "skipped: 0\n"
     ]
    },
    {
     "name": "stderr",
     "output_type": "stream",
     "text": [
      "\n"
     ]
    }
   ],
   "source": [
    "from tqdm import tqdm\n",
    "\n",
    "query_min_start_dt = '2018-06-01'\n",
    "\n",
    "n_skipped = 0\n",
    "for file in tqdm(file_list):\n",
    "    df = pd.read_parquet(file)[['open', 'high', 'low', 'close', 'volume']]\n",
    "    df = df.resample('1T').ffill()\n",
    "    \n",
    "    df = df[query_min_start_dt:]\n",
    "    assert not df.isnull().any().any()\n",
    "\n",
    "    csv_name = file.split('rawdata/parquet/')[-1].split('.parquet')[0] + '.csv'\n",
    "    \n",
    "    # skip exists data \n",
    "    if df.index[0] > pd.Timestamp(query_min_start_dt, freq='T'):\n",
    "        print(f'skipped to save: {csv_name}')\n",
    "        n_skipped += 1\n",
    "\n",
    "        continue\n",
    "\n",
    "    df.index = df.index.tz_localize('utc')\n",
    "    df.to_csv('../../../storage/dataset/rawdata/csv/' + csv_name)\n",
    "\n",
    "print(f'skipped: {n_skipped}')"
   ]
  },
  {
   "cell_type": "code",
   "execution_count": null,
   "metadata": {},
   "outputs": [],
   "source": []
  }
 ],
 "metadata": {
  "kernelspec": {
   "display_name": "Python 3",
   "language": "python",
   "name": "python3"
  },
  "language_info": {
   "codemirror_mode": {
    "name": "ipython",
    "version": 3
   },
   "file_extension": ".py",
   "mimetype": "text/x-python",
   "name": "python",
   "nbconvert_exporter": "python",
   "pygments_lexer": "ipython3",
   "version": "3.7.8"
  }
 },
 "nbformat": 4,
 "nbformat_minor": 4
}
