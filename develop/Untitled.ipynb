{
 "cells": [
  {
   "cell_type": "code",
   "execution_count": 2,
   "metadata": {},
   "outputs": [],
   "source": [
    "import pandas as pd\n",
    "import numpy as np"
   ]
  },
  {
   "cell_type": "code",
   "execution_count": 3,
   "metadata": {},
   "outputs": [],
   "source": [
    "x_train = pd.read_csv(\n",
    "    './storage/dataset/dataset_60m_v1/train/X.csv',\n",
    "    header=[0, 1],\n",
    "    index_col=0,\n",
    "    compression=\"gzip\",\n",
    ")\n",
    "\n",
    "x_test = pd.read_csv(\n",
    "    './storage/dataset/dataset_60m_v1/test/X.csv',\n",
    "    header=[0, 1],\n",
    "    index_col=0,\n",
    "    compression=\"gzip\",\n",
    ")"
   ]
  },
  {
   "cell_type": "code",
   "execution_count": 4,
   "metadata": {},
   "outputs": [],
   "source": [
    "from itertools import combinations"
   ]
  },
  {
   "cell_type": "code",
   "execution_count": 5,
   "metadata": {},
   "outputs": [],
   "source": [
    "COLUMNS = [\"open\", \"high\", \"low\", \"close\"]"
   ]
  },
  {
   "cell_type": "code",
   "execution_count": 6,
   "metadata": {},
   "outputs": [],
   "source": [
    "column_pairs = sorted(list(combinations(COLUMNS, 2)))"
   ]
  },
  {
   "cell_type": "code",
   "execution_count": 12,
   "metadata": {},
   "outputs": [],
   "source": [
    "columns = [\n",
    "    'close_return(1)', 'close_return(60)', 'close_return(720)',\n",
    "    'high_close_change', 'high_low_change',\n",
    "    'high_return(1)', 'high_return(60)', 'high_return(720)',\n",
    "    'low_close_change',\n",
    "    'low_return(1)', 'low_return(60)', 'low_return(720)',\n",
    "    'open_close_change', 'open_high_change', 'open_low_change',\n",
    "    'open_return(1)', 'open_return(60)', 'open_return(720)'\n",
    "]"
   ]
  },
  {
   "cell_type": "code",
   "execution_count": 25,
   "metadata": {},
   "outputs": [],
   "source": [
    "x_train[x_train.columns[[column in columns for column in x_train.columns.get_level_values(1)]]].to_csv('./storage/dataset/dataset_60m_v1/train/X.csv', compression='gzip')"
   ]
  },
  {
   "cell_type": "code",
   "execution_count": 26,
   "metadata": {},
   "outputs": [],
   "source": [
    "x_test[x_test.columns[[column in columns for column in x_test.columns.get_level_values(1)]]].to_csv('./storage/dataset/dataset_60m_v1/test/X.csv', compression='gzip')"
   ]
  },
  {
   "cell_type": "code",
   "execution_count": null,
   "metadata": {},
   "outputs": [],
   "source": []
  }
 ],
 "metadata": {
  "kernelspec": {
   "display_name": "Python 3",
   "language": "python",
   "name": "python3"
  },
  "language_info": {
   "codemirror_mode": {
    "name": "ipython",
    "version": 3
   },
   "file_extension": ".py",
   "mimetype": "text/x-python",
   "name": "python",
   "nbconvert_exporter": "python",
   "pygments_lexer": "ipython3",
   "version": "3.8.0"
  }
 },
 "nbformat": 4,
 "nbformat_minor": 4
}
