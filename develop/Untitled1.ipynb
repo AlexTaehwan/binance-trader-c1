{
 "cells": [
  {
   "cell_type": "code",
   "execution_count": 1,
   "metadata": {},
   "outputs": [],
   "source": []
  },
  {
   "cell_type": "code",
   "execution_count": 3,
   "metadata": {},
   "outputs": [],
   "source": []
  },
  {
   "cell_type": "code",
   "execution_count": 5,
   "metadata": {},
   "outputs": [
    {
     "data": {
      "text/plain": [
       "{'ADA-BTC': 0,\n",
       " 'ALGO-BTC': 1,\n",
       " 'ATOM-BTC': 2,\n",
       " 'BAT-BTC': 3,\n",
       " 'BCH-BTC': 4,\n",
       " 'BNB-BTC': 5,\n",
       " 'BTC-USDT': 6,\n",
       " 'DASH-BTC': 7,\n",
       " 'DGB-BTC': 8,\n",
       " 'DOGE-BTC': 9,\n",
       " 'EOS-BTC': 10,\n",
       " 'ETC-BTC': 11,\n",
       " 'ETH-BTC': 12,\n",
       " 'FTT-BTC': 13,\n",
       " 'IOTA-BTC': 14,\n",
       " 'LINK-BTC': 15,\n",
       " 'LRC-BTC': 16,\n",
       " 'LTC-BTC': 17,\n",
       " 'MKR-BTC': 18,\n",
       " 'NEO-BTC': 19,\n",
       " 'OMG-BTC': 20,\n",
       " 'ONT-BTC': 21,\n",
       " 'QTUM-BTC': 22,\n",
       " 'REN-BTC': 23,\n",
       " 'THETA-BTC': 24,\n",
       " 'TRX-BTC': 25,\n",
       " 'VET-BTC': 26,\n",
       " 'WAVES-BTC': 27,\n",
       " 'XEM-BTC': 28,\n",
       " 'XLM-BTC': 29,\n",
       " 'XMR-BTC': 30,\n",
       " 'XRP-BTC': 31,\n",
       " 'XTZ-BTC': 32,\n",
       " 'ZEC-BTC': 33,\n",
       " 'ZRX-BTC': 34}"
      ]
     },
     "execution_count": 5,
     "metadata": {},
     "output_type": "execute_result"
    }
   ],
   "source": []
  },
  {
   "cell_type": "code",
   "execution_count": null,
   "metadata": {},
   "outputs": [],
   "source": []
  }
 ],
 "metadata": {
  "kernelspec": {
   "display_name": "Python 3",
   "language": "python",
   "name": "python3"
  },
  "language_info": {
   "codemirror_mode": {
    "name": "ipython",
    "version": 3
   },
   "file_extension": ".py",
   "mimetype": "text/x-python",
   "name": "python",
   "nbconvert_exporter": "python",
   "pygments_lexer": "ipython3",
   "version": "3.8.0"
  }
 },
 "nbformat": 4,
 "nbformat_minor": 4
}
